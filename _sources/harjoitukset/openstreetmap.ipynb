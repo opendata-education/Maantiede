{
 "cells": [
  {
   "cell_type": "markdown",
   "metadata": {},
   "source": [
    "# Open Street Map\n",
    "\n",
    "[Open Street Map](https://www.openstreetmap.org/) (OSM) on avoin karttapalvelu, jossa käyttäjät voivat itse osallistua karttojen luomiseen. Koska kyseessä on avoin projekti, sen aineistoa voidaan hyödyntää vapaasti omiin tarkoituksiin (myös kaupallisiin). Pääsemme pythonilla käsiksi OSM:n aineistoon [osmnx](https://osmnx.readthedocs.io/en/stable/index.html)-kirjaston avulla. Aineistosta voidaan hakea paljon kaikenlaista paikkatietoa, kuten tieverkostoja, rakennuksia, puistoja, ravintoloita jne.\n",
    "\n",
    "Tässä harjoituksessa tutustutaan osmnx-kirjastoon, haetaan sen avulla paikkatietoja Tampereen keskustorin lähettyviltä ja piirretään niitä kartalle. Lisäksi tässä harjoituksessa tarvitaan [matplotlib](https://matplotlib.org/)-kirjastoa, joka sisältää funktioita kuvaajien piirtämistä varten.\n",
    "\n",
    "Aloitetaan hakemalla tarvittavat kirjastot."
   ]
  },
  {
   "cell_type": "code",
   "execution_count": null,
   "metadata": {},
   "outputs": [],
   "source": [
    "import osmnx as ox  # Paikkatietojen hakemiseen ja käsittelyyn tarvittavia funktioita\n",
    "import matplotlib.pyplot as plt  # Kuvaajien piirtämiseen tarvittavia funktioita"
   ]
  },
  {
   "cell_type": "markdown",
   "metadata": {},
   "source": [
    "Määritellään seuraavaksi osoite, jonka ympäristöstä haluamme etsiä paikkatietoja, sekä etäisyys. Etsitään paikkatietoja 1km säteellä Tampereen keskustorista."
   ]
  },
  {
   "cell_type": "code",
   "execution_count": null,
   "metadata": {},
   "outputs": [],
   "source": [
    "# Määritellään osoite ja etäisyys ja tallennetaan ne muuttujiin \"address\" ja \"distance\"\n",
    "\n",
    "address = \"Keskustori 1, 33100, Tampere, Finland\"\n",
    "distance = 1000 # metriä"
   ]
  },
  {
   "cell_type": "markdown",
   "metadata": {},
   "source": [
    "Seuraavaksi voidaan hakea kuvaajaan tarvittavat tiedot [`ox.graph_from_address()`](https://osmnx.readthedocs.io/en/stable/osmnx.html#osmnx.graph.graph_from_address)-funktion avulla. Haetaan tiedot ja piirretään niistä kuvaaja [`ox.plot_graph()`](https://osmnx.readthedocs.io/en/stable/osmnx.html#osmnx.plot.plot_graph)-funktiolla."
   ]
  },
  {
   "cell_type": "code",
   "execution_count": null,
   "metadata": {},
   "outputs": [],
   "source": [
    "# Haetaan OpenStreetMapin katuverkosto \"graph_from_address\"-funktion avulla\n",
    "graph = ox.graph_from_address(address, dist=distance)\n",
    "\n",
    "# Piirretään verkosto näytölle\n",
    "ox.plot_graph(graph)"
   ]
  },
  {
   "cell_type": "markdown",
   "metadata": {},
   "source": [
    "Hienolta näyttää! Saimme parilla koodirivillä piirrettyä Tampereen keskustorin ympäristössä olevat tiet ja niiden risteyskohdat. Tavoitteenamme on seuraavaksi piirtää samaan kuvaan kaikki tiet sekä alueella olevat rakennukset.\n",
    "\n",
    "Aluksi eritellään kuvaajasta omaksi muuttujikseen teiden solmukohdat sekä tiet [`ox.graph_to_gdfs()`](https://osmnx.readthedocs.io/en/stable/osmnx.html#osmnx.utils_graph.graph_to_gdfs)-funktion avulla. Saamme haluamamme tiedot GeoDataFrame-muodossa, jotka ovat käytännössä taulukoita, jotka sisältävät muiden tietojen lisäksi paikkatietoja.\n",
    "\n",
    "Etsitään lisäksi lähistöllä olevat rakennukset [`ox.geometries_from_address`](https://osmnx.readthedocs.io/en/stable/osmnx.html#osmnx.geometries.geometries_from_address)-funktiolla. Saamme tiedot kaikista rakennuksista lisäämällä funktion parametreihin `tags = {'building': True}`. Tämäkin funktio antaa rakennukset GeoDataFramena."
   ]
  },
  {
   "cell_type": "code",
   "execution_count": null,
   "metadata": {},
   "outputs": [],
   "source": [
    "# eritellään kuvasta solmupisteet (nodes) ja reunat, eli tässä siis kadut (edges) omiksi muuttujikseen\n",
    "nodes, edges = ox.graph_to_gdfs(graph)\n",
    "\n",
    "# etsitään osoitteen avulla alueella olevat rakennukset käyttäen tagia \"building\": True\n",
    "buildings = ox.geometries_from_address(address, dist=distance, tags = {'building': True} )\n",
    "\n",
    "# GeoDataFramen sisältämiä sarakkeita voidaan tarkastella seuraavasti\n",
    "print(buildings.columns)"
   ]
  },
  {
   "cell_type": "markdown",
   "metadata": {},
   "source": [
    "Huomataan, että rakennuksista on paljon erilaista tietoa (kolme pistettä keskellä viittaa siihen, että kaikki tiedot eivät mahdu näytölle), kuten niille määritelty nimi tai pääsy pyörätuolilla. Tässä harjoituksessa piirretään kartalle kuitenkin kaikki rakennukset, joten dataa ei tarvitse enempää manipuloida.\n",
    "\n",
    "Nyt voimme piirtää rakennukset ja kadut samaan kuvaan. Tätä varten tehdään kuvalle pohja `subplots()`-funktiolla. Tämä funktio antaa paluuarvoina itse kuvan sekä kuvan akselit, joita tarvitsemme, jotta saamme samalle akselille piirrettyä sekä rakennukset että tieverkoston.\n",
    "\n",
    "Lisäksi käytetään seuraavia funktioita:\n",
    "- [`ax.set_facecolor()`](https://matplotlib.org/api/_as_gen/matplotlib.axes.Axes.set_facecolor.html?highlight=set_facecolor#matplotlib.axes.Axes.set_facecolor) -> asetetaan kuvaajaan taustaväri\n",
    "- [`plt.title()`](https://matplotlib.org/api/_as_gen/matplotlib.pyplot.title.html?highlight=title#matplotlib.pyplot.title) -> asetetaan kuvaajalle otsikko\n",
    "- [`plt.show()`](https://matplotlib.org/api/_as_gen/matplotlib.pyplot.show.html?highlight=show#matplotlib.pyplot.show) -> näytetään ainoastaan kuva, eikä muuta koodisolun tietoa."
   ]
  },
  {
   "cell_type": "code",
   "execution_count": null,
   "metadata": {},
   "outputs": [],
   "source": [
    "# Jotta tiet ja rakennukset saadaan samaan kuvaan, tehdään kuvalle pohja:\n",
    "fig, ax = plt.subplots(figsize=(24,16)) # Määritellään kuvan koko tuumina\n",
    "\n",
    "# Asetetaan taustaväriksi musta, jotta tiet ja rakennukset erottuvat paremmin\n",
    "ax.set_facecolor('black')\n",
    "\n",
    "# Asetetaan kuvalle otsikko\n",
    "plt.title('Kadut ja rakennukset kilometrin etäisyydellä Tampereen keskustorista', fontsize=24)\n",
    "\n",
    "# Piirretään tieverkosto, alpha-parametrilla säädetään värin läpinäkyvyyttä\n",
    "# Huom. akseliksi pitää määritellä ax\n",
    "edges.plot(ax=ax, color='yellow', alpha=0.7)\n",
    "\n",
    "# Piirretään rakennukset\n",
    "# Huom. akseliksi pitää määritellä ax\n",
    "buildings.plot(ax=ax, facecolor='silver', alpha=0.7) \n",
    "\n",
    "plt.show() # Näytetään kuva show()-funktiolla"
   ]
  },
  {
   "cell_type": "markdown",
   "metadata": {},
   "source": [
    "Nyt olemme saaneet piirrettyä jo sekä tieverkoston, että rakennukset. Lisätään vielä puistot kuvaan. Ne löytyvät vapaa-aikaan viittaavalla tagilla \"leisure\". Tällä tagilla löytyy kuitenkin muitakin paikkoja kuin puistoja, joten dataa pitää hieman karsia."
   ]
  },
  {
   "cell_type": "code",
   "execution_count": null,
   "metadata": {},
   "outputs": [],
   "source": [
    "# etsitään osoitteen avulla alueella olevat vapaa-aikaan liittyvät paikkatiedot käyttäen tagia \"leisure\": True\n",
    "leisure = ox.geometries_from_address(address, dist=distance, tags={\"leisure\":True})\n",
    "\n",
    "# katsotaan, mitä sarakkeita \"leisure\" pitää sisällään:\n",
    "leisure.columns"
   ]
  },
  {
   "cell_type": "markdown",
   "metadata": {},
   "source": [
    "Vapaa-aikaan liittyvissä paikkatiedoissa on sarake nimeltä \"leisure\". Katsotaan vielä mitä eri kohteita se pitää sisällään."
   ]
  },
  {
   "cell_type": "code",
   "execution_count": null,
   "metadata": {},
   "outputs": [],
   "source": [
    "print(leisure['leisure'].unique())"
   ]
  },
  {
   "cell_type": "markdown",
   "metadata": {},
   "source": [
    "Voisimme etsiä paikkoja, kuten leikkikenttiä, saunoja tai huvipuistoja. Halusimme kuitenkin piirtää puistot kartalle. Niitä vastaavilla paikoilla sarakkeessa on sana 'park'. Eritellään puistot muusta datasta ja tallennetaan ne muuttujaan \"parks\"."
   ]
  },
  {
   "cell_type": "code",
   "execution_count": null,
   "metadata": {},
   "outputs": [],
   "source": [
    "# Valitaan kaikista vapaa-aikaan liittyvistä paikkatiedoista (leisure) sarake nimeltään leisure ja valitaan ne rivit, joissa tuo sarake on 'park'\n",
    "parks = leisure[leisure[\"leisure\"].isin([\"park\"])]"
   ]
  },
  {
   "cell_type": "markdown",
   "metadata": {},
   "source": [
    "Nyt voimme piirtää paikkatiedot näytölle samaan tapaan kuin aiemmin."
   ]
  },
  {
   "cell_type": "code",
   "execution_count": null,
   "metadata": {
    "scrolled": false
   },
   "outputs": [],
   "source": [
    "fig, ax = plt.subplots(figsize=(24,16))\n",
    "\n",
    "ax.set_facecolor('black')\n",
    "plt.title('Kadut, rakennukset ja puistot kilometrin etäisyydellä Tampereen keskustorista', fontsize=24)\n",
    "\n",
    "edges.plot(ax=ax, color='yellow', alpha=0.7)\n",
    "buildings.plot(ax=ax, facecolor='silver', alpha=0.7) \n",
    "\n",
    "# Piirretään puistot\n",
    "parks.plot(ax=ax, facecolor='green', alpha=0.7)\n",
    "\n",
    "plt.show()"
   ]
  },
  {
   "cell_type": "markdown",
   "metadata": {},
   "source": [
    "Huomataan, että piirretyt puistot ulottuvat kilometriä kauemmas keskustorilta. Määritellään vielä kuvaajalle rajat, jotta saamme rajattua saman alueen kuin aikaisemminkin. Tämä onnistuu [`plt.xlim()`](https://matplotlib.org/api/_as_gen/matplotlib.pyplot.xlim.html?highlight=xlim#matplotlib.pyplot.xlim)- ja [`plt.ylim()`](https://matplotlib.org/api/_as_gen/matplotlib.pyplot.ylim.html?highlight=ylim#matplotlib.pyplot.ylim)-funktioilla. Katsotaan rajoille sopivat lukuarvot kuvan akseleilta."
   ]
  },
  {
   "cell_type": "code",
   "execution_count": null,
   "metadata": {},
   "outputs": [],
   "source": [
    "fig, ax = plt.subplots(figsize=(24,16))\n",
    "\n",
    "ax.set_facecolor('black')\n",
    "plt.title('Kadut, rakennukset ja puistot kilometrin etäisyydellä Tampereen keskustorista', fontsize=24)\n",
    "\n",
    "edges.plot(ax=ax, color='yellow', alpha=0.7)\n",
    "buildings.plot(ax=ax, facecolor='silver', alpha=0.7) \n",
    "parks.plot(ax=ax, facecolor='green', alpha=0.7)\n",
    "\n",
    "# Määritellään kuvalle rajat. Katsotaan sopivat rajat edellisestä kuvan akseleilta.\n",
    "plt.xlim([23.742, 23.782])\n",
    "plt.ylim([61.489, 61.507])\n",
    "\n",
    "plt.show()"
   ]
  },
  {
   "cell_type": "markdown",
   "metadata": {},
   "source": [
    "Karttamme on nyt valmis. Sen avulla voimme tarkastella Tampereen keskustan katuverkostoa, rakennuksia ja puistoja. Kokeile itse tehdä oma karttasi jostain muusta paikasta tai lisää eri paikkatietoja tähän karttaan!"
   ]
  },
  {
   "cell_type": "code",
   "execution_count": null,
   "metadata": {},
   "outputs": [],
   "source": []
  }
 ],
 "metadata": {
  "kernelspec": {
   "display_name": "Python 3",
   "language": "python",
   "name": "python3"
  },
  "language_info": {
   "codemirror_mode": {
    "name": "ipython",
    "version": 3
   },
   "file_extension": ".py",
   "mimetype": "text/x-python",
   "name": "python",
   "nbconvert_exporter": "python",
   "pygments_lexer": "ipython3",
   "version": "3.8.5"
  }
 },
 "nbformat": 4,
 "nbformat_minor": 4
}
