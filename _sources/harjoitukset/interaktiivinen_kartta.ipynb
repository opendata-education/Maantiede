{
 "cells": [
  {
   "cell_type": "markdown",
   "metadata": {},
   "source": [
    "# Interaktiiviset kartat"
   ]
  },
  {
   "cell_type": "markdown",
   "metadata": {},
   "source": [
    "Edellisessä esimerkissä piirsimme kartan, joka antoi nopeasti hyvän kokonaiskuvan maailman hiilidioksidipäästöistä. Kartalla valtiot oli väritetty siten, että mitä tummempi väri, sitä suuremmat päästöt valtiolla oli. Mitä, jos haluaisimmekin tietää tarkalleen tietyn valtion päästöt?\n",
    "\n",
    "Tässä harjoituksessa tarkoituksena on tehdä samantyylinen kartta, mutta lisätään siihen interaktiivisia ominaisuuksia. Tehdään sellainen kartta, jossa näytölle ilmestyy alueen tietoja, kun hiirellä liikutaan alueen päälle. Käytetään vaihtelun vuoksi eri esimerkkidataa kuin viime kerralla. Piirretään tällä kertaa Suomen kunnat ja niissä asuvien eläkeläisten osuus väestöstä.\n",
    "\n",
    "Suomen karttaa varten tarvittavat kuntarajat saadaan ladattua [Maanmittauslaitoksen tiedostopalvelusta](https://tiedostopalvelu.maanmittauslaitos.fi/tp/kartta). Tiedosto löytyy datakansiosta nimellä \"SuomenKuntajako_2020_250k.mid\".\n",
    "\n",
    "Eläkeläisten osuus kuntien väestöstä on myös avointa dataa ja saatavilla [Tilastokeskuksen palvelusta](https://pxnet2.stat.fi/PXWeb/pxweb/fi/Kuntien_avainluvut/). Tämäkin tiedosto on valmiiksi ladattu ja hieman siistitty paremmin tätä esimerkkiä sopivaksi. Se löytyy datakansiosta nimellä \"elakelaisten_osuus_2018_kuntajako_2020.csv\". Nimi viittaa siihen, että kyseessä on eläkeläisten osuus väestöstä vuodelta 2018, mutta vuoden 2020 kuntajaolla."
   ]
  },
  {
   "cell_type": "markdown",
   "metadata": {},
   "source": [
    "## Datan lukeminen"
   ]
  },
  {
   "cell_type": "markdown",
   "metadata": {},
   "source": [
    "Aloitetaan harjoitus samoin, kuten aiemmin, eli lataamalla datatiedostot ja yhdistämällä ne yhdeksi datasetiksi. Käytämme jälleen [pandas](https://pandas.pydata.org/) ja [geopandas](https://geopandas.org/) -kirjastoja tähän."
   ]
  },
  {
   "cell_type": "code",
   "execution_count": null,
   "metadata": {},
   "outputs": [],
   "source": [
    "import pandas as pd\n",
    "import geopandas as gpd\n",
    "\n",
    "# Luetaan kuntarajat sisältävä tiedosto geopandasin read_file()-funktiolla\n",
    "# encoding='latin1' varmistaa, että ääkköset tulevat oikein\n",
    "cities = gpd.read_file('../data/SuomenKuntajako_2020_250k.mid', encoding='latin1')\n",
    "\n",
    "# Katsotaan, mitä tiedosto sisältää\n",
    "cities.head()"
   ]
  },
  {
   "cell_type": "code",
   "execution_count": null,
   "metadata": {},
   "outputs": [],
   "source": [
    "# Luetaan kuntien eläkeläistiedot sisältävä tiedosto pandasin read_csv()-funktiolla\n",
    "pensioners = pd.read_csv('../data/elakelaisten_osuus_2018_kuntajako_2020.csv')\n",
    "\n",
    "# Katsotaan, mitä tiedosto sisältää\n",
    "pensioners.head()"
   ]
  },
  {
   "cell_type": "code",
   "execution_count": null,
   "metadata": {
    "scrolled": true
   },
   "outputs": [],
   "source": [
    "# Yhdistetään tiedot kaupunkien nimien perusteella\n",
    "data = cities.merge(pensioners, left_on='namefin', right_on='alue')\n",
    "\n",
    "# Katsotaan tulos\n",
    "data.head()"
   ]
  },
  {
   "cell_type": "markdown",
   "metadata": {},
   "source": [
    "## Kartan piirtäminen Bokeh-kirjaston avulla"
   ]
  },
  {
   "cell_type": "markdown",
   "metadata": {},
   "source": [
    "Hienoa, datan lukeminen onnistui! Piirretään seuraavaksi tiedot näytölle [Bokeh](https://bokeh.org/)-kirjaston avulla. Kuvan piirtämiseksi tarvitsemme seuraavia funktioita tai luokkia:\n",
    "\n",
    "- [`figure()`](https://docs.bokeh.org/en/latest/docs/reference/plotting.html#bokeh.plotting.figure): Alustetaan kuva. Voidaan antaa esim. kuvan otsikko tässä vaiheessa \"title\"-parametrilla.\n",
    "- [`GeoJSONDataSource`](https://docs.bokeh.org/en/latest/docs/reference/models/sources.html#bokeh.models.sources.GeoJSONDataSource): Muutetaan datamme GeoJSONDataSource-muotoiseksi, jotta sen piirtäminen bokeh:lla onnistuu helposti.\n",
    "- [`LinearColorMapper`](https://docs.bokeh.org/en/latest/docs/reference/models/mappers.html#bokeh.models.mappers.LinearColorMapper): Lisätään värit karttaan.\n",
    "- [`Greens`](https://docs.bokeh.org/en/latest/docs/reference/palettes.html#brewer-palettes): Käytetään vihreää värikarttaa.\n",
    "- [`output_notebook()`](https://docs.bokeh.org/en/latest/docs/reference/io.html#bokeh.io.output.output_notebook): Tämän funktion avulla ḱuva piirtyy koodisolun alapuolelle (jos show-funktiota on myös käytetty). Muussa tapauksessa kuva avautuisi uuteen välilehteen.\n",
    "- [`show()`](https://docs.bokeh.org/en/latest/docs/reference/io.html#bokeh.io.show): Tällä käskyllä näytetään kuva."
   ]
  },
  {
   "cell_type": "code",
   "execution_count": null,
   "metadata": {},
   "outputs": [],
   "source": [
    "# Tuodaan tarvittavat funktiot. Huom. ne pitää tuoda oikeista kirjastoista.\n",
    "from bokeh.plotting import figure\n",
    "from bokeh.models import GeoJSONDataSource, LinearColorMapper\n",
    "from bokeh.palettes import Greens\n",
    "from bokeh.io import output_notebook, show\n",
    "\n",
    "# Alustetaan kuva ja asetetaan otsikko. Tallennetaan kuva muuttujaan \"fig\".\n",
    "fig = figure(title=\"Eläkeläisten osuus väestöstä vuonna 2018 vuoden 2020 kuntajaolla (%). \")\n",
    "\n",
    "# Muutetaan datamme ensin json-tyyppiseksi ja sen jälkeen GeoJSONDataSource:ksi\n",
    "data_json = data.to_json()\n",
    "geosource = GeoJSONDataSource(geojson = data_json)\n",
    "\n",
    "# Valitaan 6 eri väriä Greens-värikartasta. Lopussa oleva [::-1] kääntää värikartan toisinpäin, toisin sanoen tummemmat\n",
    "# ilmaisevat silloin suurempaa lukuarvoa.\n",
    "palette = Greens[6][::-1]\n",
    "\n",
    "# Valitaan värien minimiarvoksi datamme pienin arvo ja maksimiarvoksi datamme suurin arvo.\n",
    "color_mapper = LinearColorMapper(palette = palette,\n",
    "                                 low = data['elakelaisten_osuus'].min(),\n",
    "                                 high = data['elakelaisten_osuus'].max())\n",
    "\n",
    "# Piirretään kuntarajat kartalle. GeoJSONDataSourcessa datamme 'geometry'-sarake on muuttunut 'xs'- ja 'ys'-sarakkeiksi.\n",
    "# Piirretään siis ne käyttäen lähteenä määrittämäämme \"geosource\"-muuttujaa.\n",
    "# Lisätään vielä värit kartalle määrittelemällä \"fill_color\", jolle pitää kertoa sekä datasarakkeen nimi sekä\n",
    "# käyttämämme värikartta.\n",
    "fig.patches('xs','ys',\n",
    "            source = geosource,\n",
    "            fill_color={'field':'elakelaisten_osuus','transform': color_mapper})\n",
    "\n",
    "# Asetetaan tulos näkymään solun alapuolella.\n",
    "output_notebook()\n",
    "\n",
    "# Näytetään kartta\n",
    "show(fig)"
   ]
  },
  {
   "cell_type": "markdown",
   "metadata": {},
   "source": [
    "Noniin, nyt saimme piirrettyä kartan käyttämällä bokeh-kirjastoa! Huomataan, että Itä-Suomessa on paljon tummanvihreitä alueita, joissa eläkeläisten osuus väestöstä on suuri verrattuna esimerkiksi pääkaupunkiseutuun. (Huom. rannikolla olevien kuntien rajat näyttävät oudoilta, koska myös merialueet on huomioitu kartassa)\n",
    "\n",
    "Kartassa on valmiiksi hyödyllisiä työkaluja, joiden  avulla voimme zoomata ja liikutella karttaa tai halutessamme vaikkapa tallentaa sen. Tässä on jo hieman interaktiivisuutta, mutta tavoitteenamme oli tehdä sellainen kartta, jossa näytölle ilmestyy alueen tietoja, kun hiirellä liikutaan alueen päälle. Tätä varten tarvitsemme vielä [`HoverTool`](https://docs.bokeh.org/en/latest/docs/reference/models/tools.html#bokeh.models.tools.HoverTool)-työkalun bokeh-kirjastosta."
   ]
  },
  {
   "cell_type": "code",
   "execution_count": null,
   "metadata": {
    "scrolled": false
   },
   "outputs": [],
   "source": [
    "from bokeh.models import HoverTool\n",
    "\n",
    "# Tehdään uusi HoverTool-olio ja tallennetaan se muuttujaan \"hover\".\n",
    "hover = HoverTool()\n",
    "\n",
    "# Lisätään hover-oliolle \"tooltips\"-tietoja, eli nämä tiedot näkyvät, kun hiiri liikutetaan alueen päälle.\n",
    "# @-merkin jälkeen tuleva sana kertoo, mistä datan sarakkeesta tiedot haetaan.\n",
    "hover.tooltips = [('Kaupunki', '@alue'),('Eläkeläisten osuus (%)','@elakelaisten_osuus')]\n",
    "\n",
    "# Lisätään hover kuvan työkaluihin\n",
    "fig.add_tools(hover)\n",
    "\n",
    "# Näytetään kuva.\n",
    "output_notebook()\n",
    "show(fig)"
   ]
  },
  {
   "cell_type": "markdown",
   "metadata": {},
   "source": [
    "Loistavaa! Voimme nyt poimia kartastamme kuntia hiirellä ja nähdä, mikä on eläkeläisten osuus väestöstä kyseisissä kunnissa! Eikä siihen mennyt montaakaan koodiriviä.\n",
    "\n",
    "Kokeile itse hakea jokin muu kuntakohtainen data, piirtää se kartalle ja lisätä vielä interaktiivinen \"hover\"-työkalu. Voit myös yrittää etsiä jotain muuta, kuten valtiokohtaista dataa tai jotakin muuta, kunhan löydät sopivan tiedoston, joka sisältää alueiden rajat."
   ]
  }
 ],
 "metadata": {
  "kernelspec": {
   "display_name": "Python 3",
   "language": "python",
   "name": "python3"
  },
  "language_info": {
   "codemirror_mode": {
    "name": "ipython",
    "version": 3
   },
   "file_extension": ".py",
   "mimetype": "text/x-python",
   "name": "python",
   "nbconvert_exporter": "python",
   "pygments_lexer": "ipython3",
   "version": "3.8.5"
  }
 },
 "nbformat": 4,
 "nbformat_minor": 4
}
