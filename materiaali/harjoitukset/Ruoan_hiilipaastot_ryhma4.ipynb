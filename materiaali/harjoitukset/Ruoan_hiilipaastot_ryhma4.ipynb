{
 "cells": [
  {
   "cell_type": "markdown",
   "metadata": {},
   "source": [
    "# Ruoan hiilipäästöt - moniosainen ryhmätyö\n",
    "\n",
    "## Ryhmä 4\n",
    "\n",
    "Ilmastonmuutokseen ja maatalouteen liittyvässä keskustelussa toistuu kysymys siitä, että onko ruoan alkuperällä merkitystä meidän ruokavalion aiheuttamiin päästöihin. Kuinka paljon päästöt eroavat esimerkiksi paikallisen naudanlihan ja Meksikosta kuljetetun avokadon välillä? Lähdetään tutkimaan asiaa!\n",
    "\n",
    "Teidän ryhmän tarkoituksena on perehtyä aikaisempien ryhmien kirjoittamiin raportteihin ja koostaa näistä yhteinen kokonaisuus esitettäväksi. Hyödyntäkää aikaisempia ryhmiä esittämällä tarkentavia kysymyksiä. Jos onnistutte löytämään kysymyksiä mihin ette löydä vastauksia, jättäkää ne teidän esitykseen. On mahtavaa esittää pohdiskelevia kysymyksiä oman esityksen aikana!\n",
    "\n",
    "Esityksessä tulisi käydä ilmi ainakin seuraavat asiat:\n",
    "1. Kulkuvälineisiin liittyvä data, niiden päästöjen ja siihen vaikuttavien asioiden vertailu keskenään. Mistä nämä erot voivat johtua? Onko joillakin kulkuvälineillä etuja, mitä muilla kulkuvälineillä ei ole? Kuinka paljon mitäkin kulkuvälinettä käytetään?\n",
    "2. Selittäkää läpi esiintyvät yksiköt ja kuvaajat.\n",
    "3. Vertailkaa näitä kahta valittua ruoka-ainetta keskenään. Mitä ajatuksia tästä herää? Onko vaikutusta sillä, onko tuote tuotettu lähellä vai kaukana? Mitä kuljetusväylää pitkin tuotteet todennäköisesti kuljetetaan? Miksi? Mistä osioista tuotteiden hiilipäästöt koostuvat? Onko näillä tuotteilla erisuuret päästöt, ja mistä nämä erot syntyvät?\n",
    "4. Onko laskujen lopputulokset loogisia ja perusteltavissa? Vaikuttaako raporttien lopputulokset luotettavilta?\n",
    "5. Jos ihminen haluaa mahdollisimman vähähiilipäästöisen ruokavalion, mihin asioihin kannattaa kiinnittää huomiota näiden raporttien perusteella?\n",
    "\n",
    "Esittäkää lopputuloksenne, pohdintanne ja havaintonne valitsemallanne tavalla."
   ]
  },
  {
   "cell_type": "code",
   "execution_count": null,
   "metadata": {},
   "outputs": [],
   "source": []
  }
 ],
 "metadata": {
  "kernelspec": {
   "display_name": "Python 3",
   "language": "python",
   "name": "python3"
  },
  "language_info": {
   "codemirror_mode": {
    "name": "ipython",
    "version": 3
   },
   "file_extension": ".py",
   "mimetype": "text/x-python",
   "name": "python",
   "nbconvert_exporter": "python",
   "pygments_lexer": "ipython3",
   "version": "3.8.5"
  }
 },
 "nbformat": 4,
 "nbformat_minor": 4
}
