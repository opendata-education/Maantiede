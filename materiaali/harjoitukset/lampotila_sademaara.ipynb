{
 "cells": [
  {
   "cell_type": "markdown",
   "id": "enormous-auckland",
   "metadata": {},
   "source": [
    "# Lämpötila ja sademäärä"
   ]
  },
  {
   "cell_type": "markdown",
   "id": "alpine-prospect",
   "metadata": {},
   "source": [
    "## Tehtävä"
   ]
  },
  {
   "cell_type": "markdown",
   "id": "stuffed-audience",
   "metadata": {},
   "source": [
    "Etsi oman kotipaikkakuntasi (tai jonkin muun paikkakunnan) kuukausien keskilämpötilat ja sademäärät ainakin kymmenen viime vuoden ajalta (voit valita myös koko mittaushistorian). Laske vuosien keskilämpötilat ja sademäärät ja piirrä niistä kuvaaja. Mikä vuosi on ollut kaikkein lämpimin? Entä kylmin? Milloin puolestaan on satanut eniten tai vähiten? Voit ottaa mallia esimerkistä."
   ]
  },
  {
   "cell_type": "markdown",
   "id": "serial-specific",
   "metadata": {},
   "source": [
    "## Esimerkki"
   ]
  },
  {
   "cell_type": "markdown",
   "id": "aware-thanks",
   "metadata": {},
   "source": [
    "Haetaan [Ilmatieteenlaitoksen hakupalvelusta](https://www.ilmatieteenlaitos.fi/havaintojen-lataus) tiedot Pirkkalan lentoaseman säähavainnoista (kuukauden keskilämpötila ja -sademäärä). Mittaushistoria ulottuu noin 80-luvulle, joten valitaan aikaväliski 1980-2020. Havainnot on ladattu hakupalvelusta ja tallennettu tiedostoon \"pirkkala_1980-2020.csv\".\n",
    "\n",
    "Käytetään datan lukemiseen ja käsittelemiseen [pandas](org)-pakettia ja datan visualisoimiseen [matplotlib](https://matplotlib.org/)-pakettia."
   ]
  },
  {
   "cell_type": "code",
   "execution_count": 1,
   "id": "distant-brunei",
   "metadata": {},
   "outputs": [],
   "source": [
    "# Tuodaan tarvittavat paketit\n",
    "\n",
    "import pandas as pd\n",
    "import matplotlib.pyplot as plt"
   ]
  },
  {
   "cell_type": "code",
   "execution_count": 2,
   "id": "arctic-allocation",
   "metadata": {
    "scrolled": true
   },
   "outputs": [
    {
     "data": {
      "text/html": [
       "<div>\n",
       "<style scoped>\n",
       "    .dataframe tbody tr th:only-of-type {\n",
       "        vertical-align: middle;\n",
       "    }\n",
       "\n",
       "    .dataframe tbody tr th {\n",
       "        vertical-align: top;\n",
       "    }\n",
       "\n",
       "    .dataframe thead th {\n",
       "        text-align: right;\n",
       "    }\n",
       "</style>\n",
       "<table border=\"1\" class=\"dataframe\">\n",
       "  <thead>\n",
       "    <tr style=\"text-align: right;\">\n",
       "      <th></th>\n",
       "      <th>Vuosi</th>\n",
       "      <th>Kk</th>\n",
       "      <th>Pv</th>\n",
       "      <th>Klo</th>\n",
       "      <th>Aikavyöhyke</th>\n",
       "      <th>Kuukauden sadesumma (mm)</th>\n",
       "      <th>Kuukauden keskilämpötila (degC)</th>\n",
       "    </tr>\n",
       "  </thead>\n",
       "  <tbody>\n",
       "    <tr>\n",
       "      <th>0</th>\n",
       "      <td>1980</td>\n",
       "      <td>1</td>\n",
       "      <td>1</td>\n",
       "      <td>00:00</td>\n",
       "      <td>UTC</td>\n",
       "      <td>15.4</td>\n",
       "      <td>-9.5</td>\n",
       "    </tr>\n",
       "    <tr>\n",
       "      <th>1</th>\n",
       "      <td>1980</td>\n",
       "      <td>2</td>\n",
       "      <td>1</td>\n",
       "      <td>00:00</td>\n",
       "      <td>UTC</td>\n",
       "      <td>8.2</td>\n",
       "      <td>-10.1</td>\n",
       "    </tr>\n",
       "    <tr>\n",
       "      <th>2</th>\n",
       "      <td>1980</td>\n",
       "      <td>3</td>\n",
       "      <td>1</td>\n",
       "      <td>00:00</td>\n",
       "      <td>UTC</td>\n",
       "      <td>5.2</td>\n",
       "      <td>-6.5</td>\n",
       "    </tr>\n",
       "    <tr>\n",
       "      <th>3</th>\n",
       "      <td>1980</td>\n",
       "      <td>4</td>\n",
       "      <td>1</td>\n",
       "      <td>00:00</td>\n",
       "      <td>UTC</td>\n",
       "      <td>19.7</td>\n",
       "      <td>4.2</td>\n",
       "    </tr>\n",
       "    <tr>\n",
       "      <th>4</th>\n",
       "      <td>1980</td>\n",
       "      <td>5</td>\n",
       "      <td>1</td>\n",
       "      <td>00:00</td>\n",
       "      <td>UTC</td>\n",
       "      <td>22.9</td>\n",
       "      <td>7.3</td>\n",
       "    </tr>\n",
       "  </tbody>\n",
       "</table>\n",
       "</div>"
      ],
      "text/plain": [
       "   Vuosi  Kk  Pv    Klo Aikavyöhyke  Kuukauden sadesumma (mm)  \\\n",
       "0   1980   1   1  00:00         UTC                      15.4   \n",
       "1   1980   2   1  00:00         UTC                       8.2   \n",
       "2   1980   3   1  00:00         UTC                       5.2   \n",
       "3   1980   4   1  00:00         UTC                      19.7   \n",
       "4   1980   5   1  00:00         UTC                      22.9   \n",
       "\n",
       "   Kuukauden keskilämpötila (degC)  \n",
       "0                             -9.5  \n",
       "1                            -10.1  \n",
       "2                             -6.5  \n",
       "3                              4.2  \n",
       "4                              7.3  "
      ]
     },
     "execution_count": 2,
     "metadata": {},
     "output_type": "execute_result"
    }
   ],
   "source": [
    "# Luetaan data ja katsotaan ensimmäisten rivien sisältö.\n",
    "# Data sijaitsee data kansiossa, joka on yhden kansion alempana nykyisestä kansiosta.\n",
    "\n",
    "data = pd.read_csv('../data/pirkkala_1980-2020.csv')\n",
    "data.head()"
   ]
  },
  {
   "cell_type": "markdown",
   "id": "concerned-lesson",
   "metadata": {},
   "source": [
    "Nähdään, että sademäärät löytyvät sarakkeesta \"Kuukauden sadesumma (mm)\" ja lämpötilat sarakkeesta \"Kuukauden keskilämpötila (degC)\". Seuraavaksi meidän tulee ryhmitellä data vuosien perusteella, jotta voimme vertailla dataa vuositasolla. Ryhmittely voidaan tehdä [`groupby()`](https://pandas.pydata.org/pandas-docs/stable/reference/api/pandas.DataFrame.groupby.html)-funktiolla."
   ]
  },
  {
   "cell_type": "code",
   "execution_count": 3,
   "id": "acoustic-yorkshire",
   "metadata": {},
   "outputs": [],
   "source": [
    "# Ryhmitellään data \"Vuosi\"-sarakkeen perusteella.\n",
    "\n",
    "data_groups = data.groupby('Vuosi')\n"
   ]
  },
  {
   "cell_type": "markdown",
   "id": "fuzzy-milton",
   "metadata": {},
   "source": [
    "Vuositilastojen keskiarvot saadaan [`mean()`](https://pandas.pydata.org/pandas-docs/stable/reference/api/pandas.core.groupby.GroupBy.mean.html)-funktiolla."
   ]
  },
  {
   "cell_type": "code",
   "execution_count": 4,
   "id": "overall-deadline",
   "metadata": {
    "scrolled": true
   },
   "outputs": [
    {
     "data": {
      "text/html": [
       "<div>\n",
       "<style scoped>\n",
       "    .dataframe tbody tr th:only-of-type {\n",
       "        vertical-align: middle;\n",
       "    }\n",
       "\n",
       "    .dataframe tbody tr th {\n",
       "        vertical-align: top;\n",
       "    }\n",
       "\n",
       "    .dataframe thead th {\n",
       "        text-align: right;\n",
       "    }\n",
       "</style>\n",
       "<table border=\"1\" class=\"dataframe\">\n",
       "  <thead>\n",
       "    <tr style=\"text-align: right;\">\n",
       "      <th></th>\n",
       "      <th>Kk</th>\n",
       "      <th>Pv</th>\n",
       "      <th>Kuukauden sadesumma (mm)</th>\n",
       "      <th>Kuukauden keskilämpötila (degC)</th>\n",
       "    </tr>\n",
       "    <tr>\n",
       "      <th>Vuosi</th>\n",
       "      <th></th>\n",
       "      <th></th>\n",
       "      <th></th>\n",
       "      <th></th>\n",
       "    </tr>\n",
       "  </thead>\n",
       "  <tbody>\n",
       "    <tr>\n",
       "      <th>1980</th>\n",
       "      <td>6.5</td>\n",
       "      <td>1.0</td>\n",
       "      <td>43.866667</td>\n",
       "      <td>3.308333</td>\n",
       "    </tr>\n",
       "    <tr>\n",
       "      <th>1981</th>\n",
       "      <td>6.5</td>\n",
       "      <td>1.0</td>\n",
       "      <td>67.708333</td>\n",
       "      <td>3.316667</td>\n",
       "    </tr>\n",
       "    <tr>\n",
       "      <th>1982</th>\n",
       "      <td>6.5</td>\n",
       "      <td>1.0</td>\n",
       "      <td>47.275000</td>\n",
       "      <td>4.041667</td>\n",
       "    </tr>\n",
       "    <tr>\n",
       "      <th>1983</th>\n",
       "      <td>6.5</td>\n",
       "      <td>1.0</td>\n",
       "      <td>51.150000</td>\n",
       "      <td>4.425000</td>\n",
       "    </tr>\n",
       "    <tr>\n",
       "      <th>1984</th>\n",
       "      <td>6.5</td>\n",
       "      <td>1.0</td>\n",
       "      <td>51.841667</td>\n",
       "      <td>4.600000</td>\n",
       "    </tr>\n",
       "  </tbody>\n",
       "</table>\n",
       "</div>"
      ],
      "text/plain": [
       "        Kk   Pv  Kuukauden sadesumma (mm)  Kuukauden keskilämpötila (degC)\n",
       "Vuosi                                                                     \n",
       "1980   6.5  1.0                 43.866667                         3.308333\n",
       "1981   6.5  1.0                 67.708333                         3.316667\n",
       "1982   6.5  1.0                 47.275000                         4.041667\n",
       "1983   6.5  1.0                 51.150000                         4.425000\n",
       "1984   6.5  1.0                 51.841667                         4.600000"
      ]
     },
     "execution_count": 4,
     "metadata": {},
     "output_type": "execute_result"
    }
   ],
   "source": [
    "# Katsotaan, miltä keskiarvotilastot näyttävät\n",
    "\n",
    "avg = data_groups.mean()\n",
    "avg.head()"
   ]
  },
  {
   "cell_type": "markdown",
   "id": "attended-consent",
   "metadata": {},
   "source": [
    "Tallennetaan keskiarvot omiin muuttujiin. Vuosiluvut saadaan data-ryhmistä [groups](https://pandas.pydata.org/pandas-docs/stable/reference/api/pandas.core.groupby.GroupBy.groups.html)-komennolla, josta saamme ryhmät ja niitä vastaavien rivien indeksit. Koska haluamme ainoastaan vuosiluvut (eli ryhmien nimet), käytämme vielä `keys()`-funktiota, joka antaa ainoastaan ryhmien nimet."
   ]
  },
  {
   "cell_type": "code",
   "execution_count": 5,
   "id": "stone-faculty",
   "metadata": {},
   "outputs": [],
   "source": [
    "# Tallennetaan vuosien keskilämpötilat ja -sademäärät sekä vuosiluvut omiin muuttujiin.\n",
    "\n",
    "rain = avg['Kuukauden sadesumma (mm)']\n",
    "temp = avg['Kuukauden keskilämpötila (degC)']\n",
    "year = data_groups.groups.keys()"
   ]
  },
  {
   "cell_type": "markdown",
   "id": "alike-tonight",
   "metadata": {},
   "source": [
    "Nyt kun data on käsitelty, voimme piirtää kuvaajan. Piirretään sademäärä pylväinä ja lämpötila viivana. Käytetään matplotlib-paketista seuraavia funktioita:\n",
    "\n",
    "- [`subplots()`](https://matplotlib.org/3.3.3/api/_as_gen/matplotlib.pyplot.subplots.html) Kuvaajan alustus\n",
    "- [`plot(x,y)`](https://matplotlib.org/api/_as_gen/matplotlib.axes.Axes.plot.html) Piirretään y x:n funktiona\n",
    "- [`bar(x,y)`](https://matplotlib.org/3.1.1/api/_as_gen/matplotlib.axes.Axes.bar.html) Pylväsdiagrammi \n",
    "- [`twinx()`](https://matplotlib.org/3.1.1/api/_as_gen/matplotlib.axes.Axes.twinx.html) Luodaan toinen akselisto, jossa on sama x-akseli\n",
    "- [`set_xlabel('title')`](https://matplotlib.org/3.1.1/api/_as_gen/matplotlib.axes.Axes.set_xlabel.html) Asetetaan tiettyyn akselistoon x-akselin otsikko\n",
    "- [`set_ylabel('title')`](https://matplotlib.org/3.3.3/api/_as_gen/matplotlib.axes.Axes.set_ylabel.html) Asetetaan tiettyyn akselistoon y-akselin otsikko\n",
    "- [`title('title')`](https://matplotlib.org/3.1.1/api/_as_gen/matplotlib.pyplot.title.html) Otsikko\n",
    "- [`show()`](https://matplotlib.org/3.1.1/api/_as_gen/matplotlib.pyplot.show.html) Kuvaajan näyttäminen"
   ]
  },
  {
   "cell_type": "code",
   "execution_count": 6,
   "id": "unauthorized-sharing",
   "metadata": {
    "scrolled": false
   },
   "outputs": [
    {
     "data": {
      "image/png": "[encoded data removed]",
      "text/plain": [
       "<Figure size 864x576 with 2 Axes>"
      ]
     },
     "metadata": {
      "needs_background": "light"
     },
     "output_type": "display_data"
    }
   ],
   "source": [
    "# Kuvaajan piirtäminen\n",
    "\n",
    "# Alustetaan kuvaaja subplots-komennolla. Tällöin voimme luoda myöhemmin toisen y-akselin kuvaajaan.\n",
    "fig, ax = plt.subplots(figsize=(12,8))\n",
    "\n",
    "# Piirretään lämpötilat\n",
    "ax.plot(year,temp, 'r', linewidth=3, alpha=0.7)\n",
    "\n",
    "# Luodaan toinen y-akseli sademääriä varten\n",
    "ax2 = ax.twinx()\n",
    "\n",
    "# Piirretään sademäärät pylväinä\n",
    "ax2.bar(year,rain, alpha=0.7)\n",
    "\n",
    "# Asetetaan akselien otsikot\n",
    "ax.set_xlabel('Vuosi')\n",
    "ax.set_ylabel('Lämpötila (degC)')\n",
    "ax2.set_ylabel('Sademäärä (mm)')\n",
    "\n",
    "# Kuvaajan otsikko\n",
    "plt.title('Vuosien keskilämpötilat ja -sademäärät Pirkkalan lentoasemalla')\n",
    "\n",
    "# Näytetään kuvaaja\n",
    "plt.show()"
   ]
  },
  {
   "cell_type": "markdown",
   "id": "informational-canberra",
   "metadata": {},
   "source": [
    "Kuvaajasta huomataan, että sademäärätiedot puuttuvat vuoden 2006 jälkeen. Tarkistetaan vielä [`get_group`](https://pandas.pydata.org/pandas-docs/stable/reference/api/pandas.core.groupby.GroupBy.get_group.html)-funktion avulla, miltä vuoden 2006 tilastot näyttävät:"
   ]
  },
  {
   "cell_type": "code",
   "execution_count": 7,
   "id": "cardiac-province",
   "metadata": {},
   "outputs": [
    {
     "data": {
      "text/html": [
       "<div>\n",
       "<style scoped>\n",
       "    .dataframe tbody tr th:only-of-type {\n",
       "        vertical-align: middle;\n",
       "    }\n",
       "\n",
       "    .dataframe tbody tr th {\n",
       "        vertical-align: top;\n",
       "    }\n",
       "\n",
       "    .dataframe thead th {\n",
       "        text-align: right;\n",
       "    }\n",
       "</style>\n",
       "<table border=\"1\" class=\"dataframe\">\n",
       "  <thead>\n",
       "    <tr style=\"text-align: right;\">\n",
       "      <th></th>\n",
       "      <th>Vuosi</th>\n",
       "      <th>Kk</th>\n",
       "      <th>Pv</th>\n",
       "      <th>Klo</th>\n",
       "      <th>Aikavyöhyke</th>\n",
       "      <th>Kuukauden sadesumma (mm)</th>\n",
       "      <th>Kuukauden keskilämpötila (degC)</th>\n",
       "    </tr>\n",
       "  </thead>\n",
       "  <tbody>\n",
       "    <tr>\n",
       "      <th>312</th>\n",
       "      <td>2006</td>\n",
       "      <td>1</td>\n",
       "      <td>1</td>\n",
       "      <td>00:00</td>\n",
       "      <td>UTC</td>\n",
       "      <td>17.3</td>\n",
       "      <td>-5.5</td>\n",
       "    </tr>\n",
       "    <tr>\n",
       "      <th>313</th>\n",
       "      <td>2006</td>\n",
       "      <td>2</td>\n",
       "      <td>1</td>\n",
       "      <td>00:00</td>\n",
       "      <td>UTC</td>\n",
       "      <td>17.5</td>\n",
       "      <td>-9.6</td>\n",
       "    </tr>\n",
       "    <tr>\n",
       "      <th>314</th>\n",
       "      <td>2006</td>\n",
       "      <td>3</td>\n",
       "      <td>1</td>\n",
       "      <td>00:00</td>\n",
       "      <td>UTC</td>\n",
       "      <td>30.7</td>\n",
       "      <td>-7.9</td>\n",
       "    </tr>\n",
       "    <tr>\n",
       "      <th>315</th>\n",
       "      <td>2006</td>\n",
       "      <td>4</td>\n",
       "      <td>1</td>\n",
       "      <td>00:00</td>\n",
       "      <td>UTC</td>\n",
       "      <td>33.6</td>\n",
       "      <td>3.4</td>\n",
       "    </tr>\n",
       "    <tr>\n",
       "      <th>316</th>\n",
       "      <td>2006</td>\n",
       "      <td>5</td>\n",
       "      <td>1</td>\n",
       "      <td>00:00</td>\n",
       "      <td>UTC</td>\n",
       "      <td>36.2</td>\n",
       "      <td>9.9</td>\n",
       "    </tr>\n",
       "    <tr>\n",
       "      <th>317</th>\n",
       "      <td>2006</td>\n",
       "      <td>6</td>\n",
       "      <td>1</td>\n",
       "      <td>00:00</td>\n",
       "      <td>UTC</td>\n",
       "      <td>20.9</td>\n",
       "      <td>15.2</td>\n",
       "    </tr>\n",
       "    <tr>\n",
       "      <th>318</th>\n",
       "      <td>2006</td>\n",
       "      <td>7</td>\n",
       "      <td>1</td>\n",
       "      <td>00:00</td>\n",
       "      <td>UTC</td>\n",
       "      <td>NaN</td>\n",
       "      <td>17.9</td>\n",
       "    </tr>\n",
       "    <tr>\n",
       "      <th>319</th>\n",
       "      <td>2006</td>\n",
       "      <td>8</td>\n",
       "      <td>1</td>\n",
       "      <td>00:00</td>\n",
       "      <td>UTC</td>\n",
       "      <td>NaN</td>\n",
       "      <td>17.9</td>\n",
       "    </tr>\n",
       "    <tr>\n",
       "      <th>320</th>\n",
       "      <td>2006</td>\n",
       "      <td>9</td>\n",
       "      <td>1</td>\n",
       "      <td>00:00</td>\n",
       "      <td>UTC</td>\n",
       "      <td>NaN</td>\n",
       "      <td>12.7</td>\n",
       "    </tr>\n",
       "    <tr>\n",
       "      <th>321</th>\n",
       "      <td>2006</td>\n",
       "      <td>10</td>\n",
       "      <td>1</td>\n",
       "      <td>00:00</td>\n",
       "      <td>UTC</td>\n",
       "      <td>NaN</td>\n",
       "      <td>6.2</td>\n",
       "    </tr>\n",
       "    <tr>\n",
       "      <th>322</th>\n",
       "      <td>2006</td>\n",
       "      <td>11</td>\n",
       "      <td>1</td>\n",
       "      <td>00:00</td>\n",
       "      <td>UTC</td>\n",
       "      <td>NaN</td>\n",
       "      <td>0.8</td>\n",
       "    </tr>\n",
       "    <tr>\n",
       "      <th>323</th>\n",
       "      <td>2006</td>\n",
       "      <td>12</td>\n",
       "      <td>1</td>\n",
       "      <td>00:00</td>\n",
       "      <td>UTC</td>\n",
       "      <td>NaN</td>\n",
       "      <td>2.2</td>\n",
       "    </tr>\n",
       "  </tbody>\n",
       "</table>\n",
       "</div>"
      ],
      "text/plain": [
       "     Vuosi  Kk  Pv    Klo Aikavyöhyke  Kuukauden sadesumma (mm)  \\\n",
       "312   2006   1   1  00:00         UTC                      17.3   \n",
       "313   2006   2   1  00:00         UTC                      17.5   \n",
       "314   2006   3   1  00:00         UTC                      30.7   \n",
       "315   2006   4   1  00:00         UTC                      33.6   \n",
       "316   2006   5   1  00:00         UTC                      36.2   \n",
       "317   2006   6   1  00:00         UTC                      20.9   \n",
       "318   2006   7   1  00:00         UTC                       NaN   \n",
       "319   2006   8   1  00:00         UTC                       NaN   \n",
       "320   2006   9   1  00:00         UTC                       NaN   \n",
       "321   2006  10   1  00:00         UTC                       NaN   \n",
       "322   2006  11   1  00:00         UTC                       NaN   \n",
       "323   2006  12   1  00:00         UTC                       NaN   \n",
       "\n",
       "     Kuukauden keskilämpötila (degC)  \n",
       "312                             -5.5  \n",
       "313                             -9.6  \n",
       "314                             -7.9  \n",
       "315                              3.4  \n",
       "316                              9.9  \n",
       "317                             15.2  \n",
       "318                             17.9  \n",
       "319                             17.9  \n",
       "320                             12.7  \n",
       "321                              6.2  \n",
       "322                              0.8  \n",
       "323                              2.2  "
      ]
     },
     "execution_count": 7,
     "metadata": {},
     "output_type": "execute_result"
    }
   ],
   "source": [
    "data_groups.get_group(2006)"
   ]
  },
  {
   "cell_type": "markdown",
   "id": "occupied-shakespeare",
   "metadata": {},
   "source": [
    "Huomataan, että sademäärien mittaaminen on keskeytetty kesken vuoden 2006. Niimpä meidän täytyy jättää myös vuosi 2006 pois vuositilastoistamme. Korvataan vuoden 2006 arvo NaN (Not a Number) arvolla, joka tarkoittaa, että arvoa ei ole olemassa. Tämä voidaan tehdä [numpy](https://numpy.org/)-paketin [`nan`](https://numpy.org/doc/stable/reference/constants.html#numpy.nan)-arvolla."
   ]
  },
  {
   "cell_type": "code",
   "execution_count": 8,
   "id": "permanent-monroe",
   "metadata": {},
   "outputs": [
    {
     "data": {
      "text/plain": [
       "Vuosi\n",
       "1980    43.866667\n",
       "1981    67.708333\n",
       "1982    47.275000\n",
       "1983    51.150000\n",
       "1984    51.841667\n",
       "1985    48.183333\n",
       "1986    53.908333\n",
       "1987    48.833333\n",
       "1988    72.958333\n",
       "1989    42.900000\n",
       "1990    48.425000\n",
       "1991    51.091667\n",
       "1992    49.666667\n",
       "1993    37.700000\n",
       "1994    45.791667\n",
       "1995    49.508333\n",
       "1996    41.641667\n",
       "1997    47.716667\n",
       "1998    51.375000\n",
       "1999    48.666667\n",
       "2000    50.700000\n",
       "2001    57.633333\n",
       "2002    41.691667\n",
       "2003    42.025000\n",
       "2004    57.550000\n",
       "2005    48.983333\n",
       "2006          NaN\n",
       "2007          NaN\n",
       "2008          NaN\n",
       "2009          NaN\n",
       "2010          NaN\n",
       "2011          NaN\n",
       "2012          NaN\n",
       "2013          NaN\n",
       "2014          NaN\n",
       "2015          NaN\n",
       "2016          NaN\n",
       "2017          NaN\n",
       "2018          NaN\n",
       "2019          NaN\n",
       "2020          NaN\n",
       "Name: Kuukauden sadesumma (mm), dtype: float64"
      ]
     },
     "execution_count": 8,
     "metadata": {},
     "output_type": "execute_result"
    }
   ],
   "source": [
    "# Poistetaan vuosi 2006 rain-taulukosta\n",
    "# Korvataan arvo numpy-paketin NaN-arvolla, joka tarkoittaa, että arvoa ei ole olemassa.\n",
    "\n",
    "import numpy as np\n",
    "rain[2006] = np.nan\n",
    "rain"
   ]
  },
  {
   "cell_type": "code",
   "execution_count": 9,
   "id": "alternative-special",
   "metadata": {},
   "outputs": [
    {
     "data": {
      "image/png": "[encoded data removed]",
      "text/plain": [
       "<Figure size 864x576 with 2 Axes>"
      ]
     },
     "metadata": {
      "needs_background": "light"
     },
     "output_type": "display_data"
    }
   ],
   "source": [
    "# Piirretään kuvaaja uudelleen\n",
    "\n",
    "fig, ax = plt.subplots(figsize=(12,8))\n",
    "\n",
    "ax.plot(year,temp, 'r', linewidth=3, alpha=0.7)\n",
    "ax2 = ax.twinx()\n",
    "ax2.bar(year,rain, alpha=0.7)\n",
    "\n",
    "ax.set_xlabel('Vuosi')\n",
    "ax.set_ylabel('Lämpötila (degC)')\n",
    "ax2.set_ylabel('Sademäärä (mm)')\n",
    "plt.title('Vuosien keskilämpötilat ja -sademäärät Pirkkalan lentoasemalla')\n",
    "\n",
    "plt.show()"
   ]
  },
  {
   "cell_type": "markdown",
   "id": "essential-electron",
   "metadata": {},
   "source": [
    "Maksimi- ja minimi lämpötilat sekä sademäärät voitaisiin lukea suoraan kuvaajasta.\n",
    "\n",
    "Ne voidaan kuitenkin saada myös koodaamalla (käytetään [`max()`](https://pandas.pydata.org/pandas-docs/stable/reference/api/pandas.Series.max.html)- ja [`min()`](https://pandas.pydata.org/pandas-docs/stable/reference/api/pandas.Series.min.html#pandas.Series.min)-funktioita):"
   ]
  },
  {
   "cell_type": "code",
   "execution_count": 10,
   "id": "outstanding-newport",
   "metadata": {},
   "outputs": [
    {
     "data": {
      "text/plain": [
       "Vuosi\n",
       "2020    7.041667\n",
       "Name: Kuukauden keskilämpötila (degC), dtype: float64"
      ]
     },
     "execution_count": 10,
     "metadata": {},
     "output_type": "execute_result"
    }
   ],
   "source": [
    "max_temp = temp[temp == temp.max()]\n",
    "max_temp"
   ]
  },
  {
   "cell_type": "code",
   "execution_count": 11,
   "id": "electronic-sense",
   "metadata": {},
   "outputs": [
    {
     "data": {
      "text/plain": [
       "Vuosi\n",
       "1987    1.808333\n",
       "Name: Kuukauden keskilämpötila (degC), dtype: float64"
      ]
     },
     "execution_count": 11,
     "metadata": {},
     "output_type": "execute_result"
    }
   ],
   "source": [
    "min_temp = temp[temp == temp.min()]\n",
    "min_temp"
   ]
  },
  {
   "cell_type": "code",
   "execution_count": 12,
   "id": "vocational-pickup",
   "metadata": {},
   "outputs": [
    {
     "data": {
      "text/plain": [
       "Vuosi\n",
       "1988    72.958333\n",
       "Name: Kuukauden sadesumma (mm), dtype: float64"
      ]
     },
     "execution_count": 12,
     "metadata": {},
     "output_type": "execute_result"
    }
   ],
   "source": [
    "max_rain = rain[rain == rain.max()]\n",
    "max_rain"
   ]
  },
  {
   "cell_type": "code",
   "execution_count": 13,
   "id": "commercial-muscle",
   "metadata": {},
   "outputs": [
    {
     "data": {
      "text/plain": [
       "Vuosi\n",
       "1993    37.7\n",
       "Name: Kuukauden sadesumma (mm), dtype: float64"
      ]
     },
     "execution_count": 13,
     "metadata": {},
     "output_type": "execute_result"
    }
   ],
   "source": [
    "min_rain = rain[rain == rain.min()]\n",
    "min_rain"
   ]
  },
  {
   "cell_type": "markdown",
   "id": "precious-clearance",
   "metadata": {},
   "source": [
    "Kokeile seuraavaksi itse selvittää esimerkiksi oman kotikaupunkisi lämpötilan ja sademäärän vuosittaiset keskiarvot. Voit piirtää myös tietyn vuoden kuukausittaiset keskiarvot!"
   ]
  }
 ],
 "metadata": {
  "kernelspec": {
   "display_name": "Python 3",
   "language": "python",
   "name": "python3"
  },
  "language_info": {
   "codemirror_mode": {
    "name": "ipython",
    "version": 3
   },
   "file_extension": ".py",
   "mimetype": "text/x-python",
   "name": "python",
   "nbconvert_exporter": "python",
   "pygments_lexer": "ipython3",
   "version": "3.8.5"
  }
 },
 "nbformat": 4,
 "nbformat_minor": 5
}
