{
 "cells": [
  {
   "cell_type": "markdown",
   "id": "enormous-auckland",
   "metadata": {},
   "source": [
    "# Lämpötila ja sademäärä"
   ]
  },
  {
   "cell_type": "markdown",
   "id": "alpine-prospect",
   "metadata": {},
   "source": [
    "## Tehtävä"
   ]
  },
  {
   "cell_type": "markdown",
   "id": "stuffed-audience",
   "metadata": {},
   "source": [
    "Etsi oman kotipaikkakuntasi (tai jonkin muun paikkakunnan) kuukausien keskilämpötilat ja sademäärät ainakin kymmenen viime vuoden ajalta (voit valita myös koko mittaushistorian). Laske vuosien keskilämpötilat ja sademäärät ja piirrä niistä kuvaaja. Mikä vuosi on ollut kaikkein lämpimin? Entä kylmin? Milloin puolestaan on satanut eniten tai vähiten? Voit ottaa mallia esimerkistä."
   ]
  },
  {
   "cell_type": "markdown",
   "id": "serial-specific",
   "metadata": {},
   "source": [
    "## Esimerkki"
   ]
  },
  {
   "cell_type": "markdown",
   "id": "aware-thanks",
   "metadata": {},
   "source": [
    "Haetaan [Ilmatieteenlaitoksen hakupalvelusta](https://www.ilmatieteenlaitos.fi/havaintojen-lataus) tiedot Pirkkalan lentoaseman säähavainnoista (kuukauden keskilämpötila ja -sademäärä). Mittaushistoria ulottuu noin 80-luvulle, joten valitaan aikaväliski 1980-2020. Havainnot on ladattu hakupalvelusta ja tallennettu tiedostoon \"pirkkala_1980-2020.csv\".\n",
    "\n",
    "Käytetään datan lukemiseen ja käsittelemiseen [pandas](org)-pakettia ja datan visualisoimiseen [matplotlib](https://matplotlib.org/)-pakettia."
   ]
  },
  {
   "cell_type": "code",
   "execution_count": null,
   "id": "distant-brunei",
   "metadata": {},
   "outputs": [],
   "source": [
    "# Tuodaan tarvittavat paketit\n",
    "\n",
    "import pandas as pd\n",
    "import matplotlib.pyplot as plt"
   ]
  },
  {
   "cell_type": "code",
   "execution_count": null,
   "id": "arctic-allocation",
   "metadata": {
    "scrolled": true
   },
   "outputs": [],
   "source": [
    "# Luetaan data ja katsotaan ensimmäisten rivien sisältö.\n",
    "# Data sijaitsee data kansiossa, joka on yhden kansion alempana nykyisestä kansiosta.\n",
    "\n",
    "data = pd.read_csv('../data/pirkkala_1980-2020.csv')\n",
    "data.head()"
   ]
  },
  {
   "cell_type": "markdown",
   "id": "concerned-lesson",
   "metadata": {},
   "source": [
    "Nähdään, että sademäärät löytyvät sarakkeesta \"Kuukauden sadesumma (mm)\" ja lämpötilat sarakkeesta \"Kuukauden keskilämpötila (degC)\". Seuraavaksi meidän tulee ryhmitellä data vuosien perusteella, jotta voimme vertailla dataa vuositasolla. Ryhmittely voidaan tehdä [`groupby()`](https://pandas.pydata.org/pandas-docs/stable/reference/api/pandas.DataFrame.groupby.html)-funktiolla."
   ]
  },
  {
   "cell_type": "code",
   "execution_count": null,
   "id": "acoustic-yorkshire",
   "metadata": {},
   "outputs": [],
   "source": [
    "# Ryhmitellään data \"Vuosi\"-sarakkeen perusteella.\n",
    "\n",
    "data_groups = data.groupby('Vuosi')\n"
   ]
  },
  {
   "cell_type": "markdown",
   "id": "fuzzy-milton",
   "metadata": {},
   "source": [
    "Vuositilastojen keskiarvot saadaan [`mean()`](https://pandas.pydata.org/pandas-docs/stable/reference/api/pandas.core.groupby.GroupBy.mean.html)-funktiolla."
   ]
  },
  {
   "cell_type": "code",
   "execution_count": null,
   "id": "overall-deadline",
   "metadata": {
    "scrolled": true
   },
   "outputs": [],
   "source": [
    "# Katsotaan, miltä keskiarvotilastot näyttävät\n",
    "\n",
    "avg = data_groups.mean()\n",
    "avg.head()"
   ]
  },
  {
   "cell_type": "markdown",
   "id": "attended-consent",
   "metadata": {},
   "source": [
    "Tallennetaan keskiarvot omiin muuttujiin. Vuosiluvut saadaan data-ryhmistä [groups](https://pandas.pydata.org/pandas-docs/stable/reference/api/pandas.core.groupby.GroupBy.groups.html)-komennolla, josta saamme ryhmät ja niitä vastaavien rivien indeksit. Koska haluamme ainoastaan vuosiluvut (eli ryhmien nimet), käytämme vielä `keys()`-funktiota, joka antaa ainoastaan ryhmien nimet."
   ]
  },
  {
   "cell_type": "code",
   "execution_count": null,
   "id": "stone-faculty",
   "metadata": {},
   "outputs": [],
   "source": [
    "# Tallennetaan vuosien keskilämpötilat ja -sademäärät sekä vuosiluvut omiin muuttujiin.\n",
    "\n",
    "rain = avg['Kuukauden sadesumma (mm)']\n",
    "temp = avg['Kuukauden keskilämpötila (degC)']\n",
    "year = data_groups.groups.keys()"
   ]
  },
  {
   "cell_type": "markdown",
   "id": "alike-tonight",
   "metadata": {},
   "source": [
    "Nyt kun data on käsitelty, voimme piirtää kuvaajan. Piirretään sademäärä pylväinä ja lämpötila viivana. Käytetään matplotlib-paketista seuraavia funktioita:\n",
    "\n",
    "- [`subplots()`](https://matplotlib.org/3.3.3/api/_as_gen/matplotlib.pyplot.subplots.html) Kuvaajan alustus\n",
    "- [`plot(x,y)`](https://matplotlib.org/api/_as_gen/matplotlib.axes.Axes.plot.html) Piirretään y x:n funktiona\n",
    "- [`bar(x,y)`](https://matplotlib.org/3.1.1/api/_as_gen/matplotlib.axes.Axes.bar.html) Pylväsdiagrammi \n",
    "- [`twinx()`](https://matplotlib.org/3.1.1/api/_as_gen/matplotlib.axes.Axes.twinx.html) Luodaan toinen akselisto, jossa on sama x-akseli\n",
    "- [`set_xlabel('title')`](https://matplotlib.org/3.1.1/api/_as_gen/matplotlib.axes.Axes.set_xlabel.html) Asetetaan tiettyyn akselistoon x-akselin otsikko\n",
    "- [`set_ylabel('title')`](https://matplotlib.org/3.3.3/api/_as_gen/matplotlib.axes.Axes.set_ylabel.html) Asetetaan tiettyyn akselistoon y-akselin otsikko\n",
    "- [`title('title')`](https://matplotlib.org/3.1.1/api/_as_gen/matplotlib.pyplot.title.html) Otsikko\n",
    "- [`show()`](https://matplotlib.org/3.1.1/api/_as_gen/matplotlib.pyplot.show.html) Kuvaajan näyttäminen"
   ]
  },
  {
   "cell_type": "code",
   "execution_count": null,
   "id": "unauthorized-sharing",
   "metadata": {
    "scrolled": false
   },
   "outputs": [],
   "source": [
    "# Kuvaajan piirtäminen\n",
    "\n",
    "# Alustetaan kuvaaja subplots-komennolla. Tällöin voimme luoda myöhemmin toisen y-akselin kuvaajaan.\n",
    "fig, ax = plt.subplots(figsize=(12,8))\n",
    "\n",
    "# Piirretään lämpötilat\n",
    "ax.plot(year,temp, 'r', linewidth=3, alpha=0.7)\n",
    "\n",
    "# Luodaan toinen y-akseli sademääriä varten\n",
    "ax2 = ax.twinx()\n",
    "\n",
    "# Piirretään sademäärät pylväinä\n",
    "ax2.bar(year,rain, alpha=0.7)\n",
    "\n",
    "# Asetetaan akselien otsikot\n",
    "ax.set_xlabel('Vuosi')\n",
    "ax.set_ylabel('Lämpötila (degC)')\n",
    "ax2.set_ylabel('Sademäärä (mm)')\n",
    "\n",
    "# Kuvaajan otsikko\n",
    "plt.title('Vuosien keskilämpötilat ja -sademäärät Pirkkalan lentoasemalla')\n",
    "\n",
    "# Näytetään kuvaaja\n",
    "plt.show()"
   ]
  },
  {
   "cell_type": "markdown",
   "id": "informational-canberra",
   "metadata": {},
   "source": [
    "Kuvaajasta huomataan, että sademäärätiedot puuttuvat vuoden 2006 jälkeen. Tarkistetaan vielä [`get_group`](https://pandas.pydata.org/pandas-docs/stable/reference/api/pandas.core.groupby.GroupBy.get_group.html)-funktion avulla, miltä vuoden 2006 tilastot näyttävät:"
   ]
  },
  {
   "cell_type": "code",
   "execution_count": null,
   "id": "cardiac-province",
   "metadata": {},
   "outputs": [],
   "source": [
    "data_groups.get_group(2006)"
   ]
  },
  {
   "cell_type": "markdown",
   "id": "occupied-shakespeare",
   "metadata": {},
   "source": [
    "Huomataan, että sademäärien mittaaminen on keskeytetty kesken vuoden 2006. Niimpä meidän täytyy jättää myös vuosi 2006 pois vuositilastoistamme. Korvataan vuoden 2006 arvo NaN (Not a Number) arvolla, joka tarkoittaa, että arvoa ei ole olemassa. Tämä voidaan tehdä [numpy](https://numpy.org/)-paketin [`nan`](https://numpy.org/doc/stable/reference/constants.html#numpy.nan)-arvolla."
   ]
  },
  {
   "cell_type": "code",
   "execution_count": null,
   "id": "permanent-monroe",
   "metadata": {},
   "outputs": [],
   "source": [
    "# Poistetaan vuosi 2006 rain-taulukosta\n",
    "# Korvataan arvo numpy-paketin NaN-arvolla, joka tarkoittaa, että arvoa ei ole olemassa.\n",
    "\n",
    "import numpy as np\n",
    "rain[2006] = np.nan\n",
    "rain"
   ]
  },
  {
   "cell_type": "code",
   "execution_count": null,
   "id": "alternative-special",
   "metadata": {},
   "outputs": [],
   "source": [
    "# Piirretään kuvaaja uudelleen\n",
    "\n",
    "fig, ax = plt.subplots(figsize=(12,8))\n",
    "\n",
    "ax.plot(year,temp, 'r', linewidth=3, alpha=0.7)\n",
    "ax2 = ax.twinx()\n",
    "ax2.bar(year,rain, alpha=0.7)\n",
    "\n",
    "ax.set_xlabel('Vuosi')\n",
    "ax.set_ylabel('Lämpötila (degC)')\n",
    "ax2.set_ylabel('Sademäärä (mm)')\n",
    "plt.title('Vuosien keskilämpötilat ja -sademäärät Pirkkalan lentoasemalla')\n",
    "\n",
    "plt.show()"
   ]
  },
  {
   "cell_type": "markdown",
   "id": "essential-electron",
   "metadata": {},
   "source": [
    "Maksimi- ja minimi lämpötilat sekä sademäärät voitaisiin lukea suoraan kuvaajasta.\n",
    "\n",
    "Ne voidaan kuitenkin saada myös koodaamalla (käytetään [`max()`](https://pandas.pydata.org/pandas-docs/stable/reference/api/pandas.Series.max.html)- ja [`min()`](https://pandas.pydata.org/pandas-docs/stable/reference/api/pandas.Series.min.html#pandas.Series.min)-funktioita):"
   ]
  },
  {
   "cell_type": "code",
   "execution_count": null,
   "id": "outstanding-newport",
   "metadata": {},
   "outputs": [],
   "source": [
    "max_temp = temp[temp == temp.max()]\n",
    "max_temp"
   ]
  },
  {
   "cell_type": "code",
   "execution_count": null,
   "id": "electronic-sense",
   "metadata": {},
   "outputs": [],
   "source": [
    "min_temp = temp[temp == temp.min()]\n",
    "min_temp"
   ]
  },
  {
   "cell_type": "code",
   "execution_count": null,
   "id": "vocational-pickup",
   "metadata": {},
   "outputs": [],
   "source": [
    "max_rain = rain[rain == rain.max()]\n",
    "max_rain"
   ]
  },
  {
   "cell_type": "code",
   "execution_count": null,
   "id": "commercial-muscle",
   "metadata": {},
   "outputs": [],
   "source": [
    "min_rain = rain[rain == rain.min()]\n",
    "min_rain"
   ]
  },
  {
   "cell_type": "markdown",
   "id": "precious-clearance",
   "metadata": {},
   "source": [
    "Kokeile seuraavaksi itse selvittää esimerkiksi oman kotikaupunkisi lämpötilan ja sademäärän vuosittaiset keskiarvot. Voit piirtää myös tietyn vuoden kuukausittaiset keskiarvot!"
   ]
  }
 ],
 "metadata": {
  "kernelspec": {
   "display_name": "Python 3",
   "language": "python",
   "name": "python3"
  },
  "language_info": {
   "codemirror_mode": {
    "name": "ipython",
    "version": 3
   },
   "file_extension": ".py",
   "mimetype": "text/x-python",
   "name": "python",
   "nbconvert_exporter": "python",
   "pygments_lexer": "ipython3",
   "version": "3.8.5"
  }
 },
 "nbformat": 4,
 "nbformat_minor": 5
}
