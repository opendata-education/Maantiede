{
 "cells": [
  {
   "cell_type": "markdown",
   "metadata": {},
   "source": [
    "# Datan esittäminen kartalla"
   ]
  },
  {
   "cell_type": "markdown",
   "metadata": {},
   "source": [
    "Tässä harjoituksessa tarkoituksena on esittää maailman valtioiden vuotuiset hiilidioksidipäästöt henkilöä kohden kartan muodossa. Data voitaisiin esittää monin eri tavoin, kuten vaikkapa taulukossa, josta voisi suhteellisen helposti etsiä tietty valtion ja sen hiilidioksidipäästöt. Jos tavoitteenamme on kuitenkin saada kokonaiskuva kaikkien valtioiden päästöistä, on datan esittäminen kartalla oiva valinta. Piirrämme siis maailmankartan, ja väritämme valtiot sitä tummemmaksi, mitä suuremmat hiilidioksidipäästöt niillä on.\n",
    "\n",
    "Tässä esimerkissä käytetty data on peräisin [Maailmanpankin sivustolla](https://databank.worldbank.org/home), josta on saatavilla paljon muutakin mielenkiintoista dataa."
   ]
  },
  {
   "cell_type": "markdown",
   "metadata": {},
   "source": [
    "## Datan hankinta ja lataaminen"
   ]
  },
  {
   "cell_type": "markdown",
   "metadata": {},
   "source": [
    "Aloitetaan hankkimalla haluamamme data. Tätä esimerkkiä varten tarvittava tiedosto on valmiiksi ladattu ja löytyy kansiosta 'data' nimellä 'CO2-emissions-per-capita-2014.csv'. Hiilidioksidipäästödata on peräisin osoitteesta [https://databank.worldbank.org/source/world-development-indicators#](https://databank.worldbank.org/source/world-development-indicators#).\n",
    "\n",
    "Valtioiden rajat, joita piirtämiseen tarvitaan voitaisiin lukea vektorimuotoisena .shp-päätteisestä tiedostosta. Nämä tiedot löytyvät kuitenkin valmiina [GeoPandas](https://geopandas.org/)-kirjastossa. Halutessaan valtioiden rajoista voi ladata korkeampiresoluutioisen version esimerkiksi osoitteesta [https://www.naturalearthdata.com/downloads/](https://www.naturalearthdata.com/downloads/). Netistä löytyy myös muita .shp-tiedostoja, jotka voivat sisältää esimerkiksi Suomen kunnat."
   ]
  },
  {
   "cell_type": "markdown",
   "metadata": {},
   "source": [
    "Datatiedostojen lukemiseen käytetään yleensä [Pandas](https://pandas.pydata.org/)-kirjastoa. Geodatan (valtioiden rajat .shp-tiedostona) lukemiseen käytetään kuitenkin GeoPandasia. Aloitetaan datan tutkiminen tuomalla tarvittavat kirjastot. Datan visualisointia varten tarvitaan [matplotlib](https://matplotlib.org/)-kirjastoa."
   ]
  },
  {
   "cell_type": "code",
   "execution_count": null,
   "metadata": {},
   "outputs": [],
   "source": [
    "import pandas as pd             # Pandas-kirjastolla luetaan ja käsitellään dataa\n",
    "import geopandas as gpd         # GeoPandas on kuin Pandas, mutta sisältää myös geometristä dataa\n",
    "import matplotlib.pyplot as plt # Matplotlib-kirjastolla visualisoidaan data"
   ]
  },
  {
   "cell_type": "markdown",
   "metadata": {},
   "source": [
    "GeoPandas sisältää valmiiksi muutamia geometrisia tietoja, joista yksi on valtioiden rajat.\n",
    "Luetaan kyseinen data ja katsotaan, mitä se sisältää."
   ]
  },
  {
   "cell_type": "code",
   "execution_count": null,
   "metadata": {},
   "outputs": [],
   "source": [
    "# Luetaan geometrinen data valtioille ja tallennetaan tiedot muuttujaan 'world'\n",
    "world = gpd.read_file(gpd.datasets.get_path('naturalearth_lowres'))\n",
    "\n",
    "# Tulostetaan muutama ensimmäinen rivi datasta\n",
    "print(world.head())"
   ]
  },
  {
   "cell_type": "markdown",
   "metadata": {},
   "source": [
    "Kuten nähdään, tiedosto sisältää useita sarakkeita, joista meidän kannaltamme tärkeimmät ovat \"name\", joka kertoo valtion nimen ja \"geometry\", joka sisältää valtion rajojen tiedot."
   ]
  },
  {
   "cell_type": "markdown",
   "metadata": {},
   "source": [
    "Voimme piirtää geopandasilla lukemamme datan suoraan käyttämällä 'plot'-käskyä"
   ]
  },
  {
   "cell_type": "code",
   "execution_count": null,
   "metadata": {},
   "outputs": [],
   "source": [
    "world.plot()"
   ]
  },
  {
   "cell_type": "markdown",
   "metadata": {},
   "source": [
    "Datasta hahmottuu selkeästi maailmankartta. Seuraavaksi pitäisi vielä saada valtiot väritettyä hiilidioksidipäästöjen mukaisesti.\n",
    "\n",
    "Luetaan hiilidioksidipäästödata ja katsotaan, mitä se pitää sisällään."
   ]
  },
  {
   "cell_type": "code",
   "execution_count": null,
   "metadata": {},
   "outputs": [],
   "source": [
    "# Luetaan CO2-päästöjen data ja tallennetaan se muuttujaan 'CO2_2014'.\n",
    "# Huom. joidenkin maiden nimeä on muokattu vastaamaan nimiä aiemmin ladatussa tiedostossa.\n",
    "CO2_2014 = pd.read_csv('../data/CO2-emissions-per-capita-2014.csv')\n",
    "\n",
    "# Tulostetaan muutama ensimmäinen rivi datasta\n",
    "print(CO2_2014.head())"
   ]
  },
  {
   "cell_type": "markdown",
   "metadata": {},
   "source": [
    "Huomataan, että hiilidioksidipäästöjen data on sarakkeessa \"2014 [YR2014]\" yksikössä tonnia per henkilö (vuodessa). Lisäksi valtioiden nimen tai koodin sisältävä sarake on nimetty eri tavalla kuin toisessa datatiedostossa. Tämä täytyy ottaa huomioon datatiedostoja yhdistettäessä. Kun haluamme piirtää valtiokohtaista dataa kartalle, meidän on yhdistettävä eri datasetit siten, että saman valtion geometriatiedot yhdistyvät sen hiilidioksiditietoihin. Tämä onnistuu 'merge'-funktiolla."
   ]
  },
  {
   "cell_type": "code",
   "execution_count": null,
   "metadata": {},
   "outputs": [],
   "source": [
    "import numpy as np\n",
    "\n",
    "# Varmistetaan, että päästöluvut on annettu numeroina eikä tekstinä\n",
    "CO2_2014 = CO2_2014.replace('..',np.nan)\n",
    "CO2_2014['2014 [YR2014]'] = CO2_2014['2014 [YR2014]'].astype('float64')\n",
    "\n",
    "# Yhdistetään 'world'-data 'name' sarakkeen mukaan 'CO2_2014'-datan 'Country Name'-sarakkeeseen.\n",
    "data = world.merge(CO2_2014, left_on='name', right_on='Country Name')"
   ]
  },
  {
   "cell_type": "markdown",
   "metadata": {},
   "source": [
    "## Datan visualisoiminen"
   ]
  },
  {
   "cell_type": "markdown",
   "metadata": {},
   "source": [
    "Nyt kun data on yhdistetty, voimme piirtää sen plot-funktiolla. Parametreiksi plot-funktiolle annamme sen sarakkeen nimen, jonka mukaan haluamme valtiot värittää, kuvan koon sekä värikartan ('Greens')."
   ]
  },
  {
   "cell_type": "code",
   "execution_count": null,
   "metadata": {},
   "outputs": [],
   "source": [
    "data.plot(column='2014 [YR2014]', figsize=(50,20), cmap='Greens', legend=True, k=6) # 6 eri väriä"
   ]
  },
  {
   "cell_type": "markdown",
   "metadata": {},
   "source": [
    "Nyt näemme jo, että eri valtioiden päästöt ovat erilaiset. Kuvasta on kuitenkin vaikea hahmottaa, minkä valtioden päästöt ovat suurimpia.\n",
    "\n",
    "Matplotlib jakaa värit automaattisesti siten, että kukin väri vastaa yhtä suurta osaa tarkasteluvälillä (0,04 - 43,52). Jakauma ei ole kuitenkaan tasainen, joten parempi tapa olisi jakaa värit siten, että kuhunkin väriin osuisi suunnilleen sama määrä valtioita. Tämä on tehty seuraavassa koodisolussa. Piirretään lisäksi taustalle kaikki valtiot harmaalla, jotta näemme, mistä valtioista ei ole dataa saatavilla."
   ]
  },
  {
   "cell_type": "code",
   "execution_count": null,
   "metadata": {},
   "outputs": [],
   "source": [
    "# Valmistellaan kuva, tehdään kuvasta suuri ja asetetaan taustaväriksi sininen\n",
    "fig, ax = plt.subplots(1, figsize=(50,20), facecolor='lightblue')\n",
    "\n",
    "# Piirretään taustaksi kaikki maat ja täytetään ne viivoilla.\n",
    "# Tällöin ne maat, joista ei ole dataa, erottuvat helpommin.\n",
    "world.plot(ax=ax, color='darkgrey', alpha=0.8, hatch= \"///\")\n",
    "\n",
    "# Piirretään data taustan päälle\n",
    "data.plot(\n",
    "    column='2014 [YR2014]', # Määritetään piirrettävä sarake\n",
    "    ax=ax,                  # Piirretään kuva samalle akselille kuin tausta\n",
    "    cmap='Greens',          # Käytetään vihreää värikarttaa \n",
    "    legend=True,            # Lisätään selite\n",
    "    legend_kwds={           #\n",
    "        'fontsize': 25,     # Asetetaan selitteen fonttikoko\n",
    "        'loc':'center left' # Asetetaan selitteen sijainti\n",
    "    },                      #\n",
    "    scheme='quantiles',     # Jaetaan datan värit samankokoisiin osiin\n",
    "    k=6                     # Valitaan osien lukumääräksi 6\n",
    ")\n",
    "\n",
    "# Lisätään kuvalle otsikko\n",
    "plt.title('Hiilidioksidipäästöt henkilöä kohden (tonnia vuodessa)',fontsize = 40)\n",
    "\n",
    "# Poistetaan akselit kuvan reunoilta\n",
    "ax.axis('off')\n",
    "\n",
    "# näytetään kuva\n",
    "plt.show()\n"
   ]
  },
  {
   "cell_type": "markdown",
   "metadata": {},
   "source": [
    "Nyt kartasta erottaa jo huomattavasti paremmin eri alueet ja niitä vastaavat hiilidioksidipäästöt. Voit kokeilla piirtää datan myös jakamalla datan useampaan tai vähempään kuin kuuteen osaan. Miltä data tällöin näyttää? Muokkaa kuvaa haluamallasi tavalla.\n",
    "\n",
    "Etsi itse jokin toinen valtiokohtainen data ja piirrä se samaan tapaan. Valtiokohtaista dataa löytää googlaamalla tai esimerkiksi osoitteesta [https://databank.worldbank.org/source/world-development-indicators#](https://databank.worldbank.org/source/world-development-indicators#). Maailmanpankin sivuilta pystyy myös tarkastelemaan dataa kartalla, mutta kokeile piirtää se itse!"
   ]
  }
 ],
 "metadata": {
  "kernelspec": {
   "display_name": "Python 3",
   "language": "python",
   "name": "python3"
  },
  "language_info": {
   "codemirror_mode": {
    "name": "ipython",
    "version": 3
   },
   "file_extension": ".py",
   "mimetype": "text/x-python",
   "name": "python",
   "nbconvert_exporter": "python",
   "pygments_lexer": "ipython3",
   "version": "3.8.5"
  }
 },
 "nbformat": 4,
 "nbformat_minor": 4
}
